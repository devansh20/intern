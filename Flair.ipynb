{
  "nbformat": 4,
  "nbformat_minor": 0,
  "metadata": {
    "colab": {
      "name": "Flair.ipynb",
      "provenance": [],
      "collapsed_sections": [],
      "include_colab_link": true
    },
    "kernelspec": {
      "name": "python3",
      "display_name": "Python 3"
    },
    "accelerator": "GPU",
    "widgets": {
      "application/vnd.jupyter.widget-state+json": {
        "1f99b33e704e4e11ad6369befc8ef5b2": {
          "model_module": "@jupyter-widgets/controls",
          "model_name": "HBoxModel",
          "model_module_version": "1.5.0",
          "state": {
            "_dom_classes": [],
            "_model_module": "@jupyter-widgets/controls",
            "_model_module_version": "1.5.0",
            "_model_name": "HBoxModel",
            "_view_count": null,
            "_view_module": "@jupyter-widgets/controls",
            "_view_module_version": "1.5.0",
            "_view_name": "HBoxView",
            "box_style": "",
            "children": [
              "IPY_MODEL_84535224eb114feda138c97975e3f4b2",
              "IPY_MODEL_bebbdddcdb5844669bc388aff75a8689",
              "IPY_MODEL_6e779e63bd9942e2a664895774288d8e"
            ],
            "layout": "IPY_MODEL_b1a7854e07e24314969c21d3e8bdf9e4"
          }
        },
        "84535224eb114feda138c97975e3f4b2": {
          "model_module": "@jupyter-widgets/controls",
          "model_name": "HTMLModel",
          "model_module_version": "1.5.0",
          "state": {
            "_dom_classes": [],
            "_model_module": "@jupyter-widgets/controls",
            "_model_module_version": "1.5.0",
            "_model_name": "HTMLModel",
            "_view_count": null,
            "_view_module": "@jupyter-widgets/controls",
            "_view_module_version": "1.5.0",
            "_view_name": "HTMLView",
            "description": "",
            "description_tooltip": null,
            "layout": "IPY_MODEL_6d78380e73884d5a8d47e2e5f20db86a",
            "placeholder": "​",
            "style": "IPY_MODEL_7c722cea75f94287822c7a0e8d986ee6",
            "value": "Downloading: 100%"
          }
        },
        "bebbdddcdb5844669bc388aff75a8689": {
          "model_module": "@jupyter-widgets/controls",
          "model_name": "FloatProgressModel",
          "model_module_version": "1.5.0",
          "state": {
            "_dom_classes": [],
            "_model_module": "@jupyter-widgets/controls",
            "_model_module_version": "1.5.0",
            "_model_name": "FloatProgressModel",
            "_view_count": null,
            "_view_module": "@jupyter-widgets/controls",
            "_view_module_version": "1.5.0",
            "_view_name": "ProgressView",
            "bar_style": "success",
            "description": "",
            "description_tooltip": null,
            "layout": "IPY_MODEL_314ef488ef5949af8b273f35e7081f32",
            "max": 1331379415,
            "min": 0,
            "orientation": "horizontal",
            "style": "IPY_MODEL_14892d29de364625b478e7311b1989f3",
            "value": 1331379415
          }
        },
        "6e779e63bd9942e2a664895774288d8e": {
          "model_module": "@jupyter-widgets/controls",
          "model_name": "HTMLModel",
          "model_module_version": "1.5.0",
          "state": {
            "_dom_classes": [],
            "_model_module": "@jupyter-widgets/controls",
            "_model_module_version": "1.5.0",
            "_model_name": "HTMLModel",
            "_view_count": null,
            "_view_module": "@jupyter-widgets/controls",
            "_view_module_version": "1.5.0",
            "_view_name": "HTMLView",
            "description": "",
            "description_tooltip": null,
            "layout": "IPY_MODEL_30100c8c286444d79d8898b2e1d41214",
            "placeholder": "​",
            "style": "IPY_MODEL_e8f307df094e4459a289da7b72ce5d55",
            "value": " 1.33G/1.33G [00:21&lt;00:00, 62.2MB/s]"
          }
        },
        "b1a7854e07e24314969c21d3e8bdf9e4": {
          "model_module": "@jupyter-widgets/base",
          "model_name": "LayoutModel",
          "model_module_version": "1.2.0",
          "state": {
            "_model_module": "@jupyter-widgets/base",
            "_model_module_version": "1.2.0",
            "_model_name": "LayoutModel",
            "_view_count": null,
            "_view_module": "@jupyter-widgets/base",
            "_view_module_version": "1.2.0",
            "_view_name": "LayoutView",
            "align_content": null,
            "align_items": null,
            "align_self": null,
            "border": null,
            "bottom": null,
            "display": null,
            "flex": null,
            "flex_flow": null,
            "grid_area": null,
            "grid_auto_columns": null,
            "grid_auto_flow": null,
            "grid_auto_rows": null,
            "grid_column": null,
            "grid_gap": null,
            "grid_row": null,
            "grid_template_areas": null,
            "grid_template_columns": null,
            "grid_template_rows": null,
            "height": null,
            "justify_content": null,
            "justify_items": null,
            "left": null,
            "margin": null,
            "max_height": null,
            "max_width": null,
            "min_height": null,
            "min_width": null,
            "object_fit": null,
            "object_position": null,
            "order": null,
            "overflow": null,
            "overflow_x": null,
            "overflow_y": null,
            "padding": null,
            "right": null,
            "top": null,
            "visibility": null,
            "width": null
          }
        },
        "6d78380e73884d5a8d47e2e5f20db86a": {
          "model_module": "@jupyter-widgets/base",
          "model_name": "LayoutModel",
          "model_module_version": "1.2.0",
          "state": {
            "_model_module": "@jupyter-widgets/base",
            "_model_module_version": "1.2.0",
            "_model_name": "LayoutModel",
            "_view_count": null,
            "_view_module": "@jupyter-widgets/base",
            "_view_module_version": "1.2.0",
            "_view_name": "LayoutView",
            "align_content": null,
            "align_items": null,
            "align_self": null,
            "border": null,
            "bottom": null,
            "display": null,
            "flex": null,
            "flex_flow": null,
            "grid_area": null,
            "grid_auto_columns": null,
            "grid_auto_flow": null,
            "grid_auto_rows": null,
            "grid_column": null,
            "grid_gap": null,
            "grid_row": null,
            "grid_template_areas": null,
            "grid_template_columns": null,
            "grid_template_rows": null,
            "height": null,
            "justify_content": null,
            "justify_items": null,
            "left": null,
            "margin": null,
            "max_height": null,
            "max_width": null,
            "min_height": null,
            "min_width": null,
            "object_fit": null,
            "object_position": null,
            "order": null,
            "overflow": null,
            "overflow_x": null,
            "overflow_y": null,
            "padding": null,
            "right": null,
            "top": null,
            "visibility": null,
            "width": null
          }
        },
        "7c722cea75f94287822c7a0e8d986ee6": {
          "model_module": "@jupyter-widgets/controls",
          "model_name": "DescriptionStyleModel",
          "model_module_version": "1.5.0",
          "state": {
            "_model_module": "@jupyter-widgets/controls",
            "_model_module_version": "1.5.0",
            "_model_name": "DescriptionStyleModel",
            "_view_count": null,
            "_view_module": "@jupyter-widgets/base",
            "_view_module_version": "1.2.0",
            "_view_name": "StyleView",
            "description_width": ""
          }
        },
        "314ef488ef5949af8b273f35e7081f32": {
          "model_module": "@jupyter-widgets/base",
          "model_name": "LayoutModel",
          "model_module_version": "1.2.0",
          "state": {
            "_model_module": "@jupyter-widgets/base",
            "_model_module_version": "1.2.0",
            "_model_name": "LayoutModel",
            "_view_count": null,
            "_view_module": "@jupyter-widgets/base",
            "_view_module_version": "1.2.0",
            "_view_name": "LayoutView",
            "align_content": null,
            "align_items": null,
            "align_self": null,
            "border": null,
            "bottom": null,
            "display": null,
            "flex": null,
            "flex_flow": null,
            "grid_area": null,
            "grid_auto_columns": null,
            "grid_auto_flow": null,
            "grid_auto_rows": null,
            "grid_column": null,
            "grid_gap": null,
            "grid_row": null,
            "grid_template_areas": null,
            "grid_template_columns": null,
            "grid_template_rows": null,
            "height": null,
            "justify_content": null,
            "justify_items": null,
            "left": null,
            "margin": null,
            "max_height": null,
            "max_width": null,
            "min_height": null,
            "min_width": null,
            "object_fit": null,
            "object_position": null,
            "order": null,
            "overflow": null,
            "overflow_x": null,
            "overflow_y": null,
            "padding": null,
            "right": null,
            "top": null,
            "visibility": null,
            "width": null
          }
        },
        "14892d29de364625b478e7311b1989f3": {
          "model_module": "@jupyter-widgets/controls",
          "model_name": "ProgressStyleModel",
          "model_module_version": "1.5.0",
          "state": {
            "_model_module": "@jupyter-widgets/controls",
            "_model_module_version": "1.5.0",
            "_model_name": "ProgressStyleModel",
            "_view_count": null,
            "_view_module": "@jupyter-widgets/base",
            "_view_module_version": "1.2.0",
            "_view_name": "StyleView",
            "bar_color": null,
            "description_width": ""
          }
        },
        "30100c8c286444d79d8898b2e1d41214": {
          "model_module": "@jupyter-widgets/base",
          "model_name": "LayoutModel",
          "model_module_version": "1.2.0",
          "state": {
            "_model_module": "@jupyter-widgets/base",
            "_model_module_version": "1.2.0",
            "_model_name": "LayoutModel",
            "_view_count": null,
            "_view_module": "@jupyter-widgets/base",
            "_view_module_version": "1.2.0",
            "_view_name": "LayoutView",
            "align_content": null,
            "align_items": null,
            "align_self": null,
            "border": null,
            "bottom": null,
            "display": null,
            "flex": null,
            "flex_flow": null,
            "grid_area": null,
            "grid_auto_columns": null,
            "grid_auto_flow": null,
            "grid_auto_rows": null,
            "grid_column": null,
            "grid_gap": null,
            "grid_row": null,
            "grid_template_areas": null,
            "grid_template_columns": null,
            "grid_template_rows": null,
            "height": null,
            "justify_content": null,
            "justify_items": null,
            "left": null,
            "margin": null,
            "max_height": null,
            "max_width": null,
            "min_height": null,
            "min_width": null,
            "object_fit": null,
            "object_position": null,
            "order": null,
            "overflow": null,
            "overflow_x": null,
            "overflow_y": null,
            "padding": null,
            "right": null,
            "top": null,
            "visibility": null,
            "width": null
          }
        },
        "e8f307df094e4459a289da7b72ce5d55": {
          "model_module": "@jupyter-widgets/controls",
          "model_name": "DescriptionStyleModel",
          "model_module_version": "1.5.0",
          "state": {
            "_model_module": "@jupyter-widgets/controls",
            "_model_module_version": "1.5.0",
            "_model_name": "DescriptionStyleModel",
            "_view_count": null,
            "_view_module": "@jupyter-widgets/base",
            "_view_module_version": "1.2.0",
            "_view_name": "StyleView",
            "description_width": ""
          }
        }
      }
    }
  },
  "cells": [
    {
      "cell_type": "markdown",
      "metadata": {
        "id": "view-in-github",
        "colab_type": "text"
      },
      "source": [
        "<a href=\"https://colab.research.google.com/github/devansh20/intern/blob/main/Flair.ipynb\" target=\"_parent\"><img src=\"https://colab.research.google.com/assets/colab-badge.svg\" alt=\"Open In Colab\"/></a>"
      ]
    },
    {
      "cell_type": "code",
      "metadata": {
        "id": "ioV4FmP4gxpE",
        "outputId": "8b1ee480-08fb-4830-d68d-39c44ef8b519",
        "colab": {
          "base_uri": "https://localhost:8080/"
        }
      },
      "source": [
        "# download Flair \n",
        "# on top PyTorch\n",
        "import torch\n",
        "!pip install flair\n",
        "import flair"
      ],
      "execution_count": 1,
      "outputs": [
        {
          "output_type": "stream",
          "name": "stdout",
          "text": [
            "Looking in indexes: https://pypi.org/simple, https://us-python.pkg.dev/colab-wheels/public/simple/\n",
            "Collecting flair\n",
            "  Downloading flair-0.11.3-py3-none-any.whl (401 kB)\n",
            "\u001b[K     |████████████████████████████████| 401 kB 8.4 MB/s \n",
            "\u001b[?25hCollecting ftfy\n",
            "  Downloading ftfy-6.1.1-py3-none-any.whl (53 kB)\n",
            "\u001b[K     |████████████████████████████████| 53 kB 2.2 MB/s \n",
            "\u001b[?25hRequirement already satisfied: python-dateutil>=2.6.1 in /usr/local/lib/python3.7/dist-packages (from flair) (2.8.2)\n",
            "Collecting segtok>=1.5.7\n",
            "  Downloading segtok-1.5.11-py3-none-any.whl (24 kB)\n",
            "Collecting mpld3==0.3\n",
            "  Downloading mpld3-0.3.tar.gz (788 kB)\n",
            "\u001b[K     |████████████████████████████████| 788 kB 61.9 MB/s \n",
            "\u001b[?25hRequirement already satisfied: lxml in /usr/local/lib/python3.7/dist-packages (from flair) (4.2.6)\n",
            "Collecting langdetect\n",
            "  Downloading langdetect-1.0.9.tar.gz (981 kB)\n",
            "\u001b[K     |████████████████████████████████| 981 kB 48.2 MB/s \n",
            "\u001b[?25hRequirement already satisfied: scikit-learn>=0.21.3 in /usr/local/lib/python3.7/dist-packages (from flair) (1.0.2)\n",
            "Collecting conllu>=4.0\n",
            "  Downloading conllu-4.4.2-py2.py3-none-any.whl (15 kB)\n",
            "Collecting janome\n",
            "  Downloading Janome-0.4.2-py2.py3-none-any.whl (19.7 MB)\n",
            "\u001b[K     |████████████████████████████████| 19.7 MB 1.2 MB/s \n",
            "\u001b[?25hCollecting bpemb>=0.3.2\n",
            "  Downloading bpemb-0.3.3-py3-none-any.whl (19 kB)\n",
            "Requirement already satisfied: more-itertools in /usr/local/lib/python3.7/dist-packages (from flair) (8.13.0)\n",
            "Collecting hyperopt>=0.2.7\n",
            "  Downloading hyperopt-0.2.7-py2.py3-none-any.whl (1.6 MB)\n",
            "\u001b[K     |████████████████████████████████| 1.6 MB 61.3 MB/s \n",
            "\u001b[?25hCollecting sentencepiece==0.1.95\n",
            "  Downloading sentencepiece-0.1.95-cp37-cp37m-manylinux2014_x86_64.whl (1.2 MB)\n",
            "\u001b[K     |████████████████████████████████| 1.2 MB 59.0 MB/s \n",
            "\u001b[?25hCollecting huggingface-hub\n",
            "  Downloading huggingface_hub-0.7.0-py3-none-any.whl (86 kB)\n",
            "\u001b[K     |████████████████████████████████| 86 kB 7.2 MB/s \n",
            "\u001b[?25hRequirement already satisfied: regex in /usr/local/lib/python3.7/dist-packages (from flair) (2019.12.20)\n",
            "Collecting transformers>=4.0.0\n",
            "  Downloading transformers-4.19.2-py3-none-any.whl (4.2 MB)\n",
            "\u001b[K     |████████████████████████████████| 4.2 MB 50.1 MB/s \n",
            "\u001b[?25hRequirement already satisfied: matplotlib>=2.2.3 in /usr/local/lib/python3.7/dist-packages (from flair) (3.2.2)\n",
            "Requirement already satisfied: gensim>=3.4.0 in /usr/local/lib/python3.7/dist-packages (from flair) (3.6.0)\n",
            "Requirement already satisfied: torch!=1.8,>=1.5.0 in /usr/local/lib/python3.7/dist-packages (from flair) (1.11.0+cu113)\n",
            "Collecting konoha<5.0.0,>=4.0.0\n",
            "  Downloading konoha-4.6.5-py3-none-any.whl (20 kB)\n",
            "Collecting deprecated>=1.2.4\n",
            "  Downloading Deprecated-1.2.13-py2.py3-none-any.whl (9.6 kB)\n",
            "Requirement already satisfied: tqdm>=4.26.0 in /usr/local/lib/python3.7/dist-packages (from flair) (4.64.0)\n",
            "Collecting wikipedia-api\n",
            "  Downloading Wikipedia-API-0.5.4.tar.gz (18 kB)\n",
            "Requirement already satisfied: gdown==4.4.0 in /usr/local/lib/python3.7/dist-packages (from flair) (4.4.0)\n",
            "Collecting sqlitedict>=1.6.0\n",
            "  Downloading sqlitedict-2.0.0.tar.gz (46 kB)\n",
            "\u001b[K     |████████████████████████████████| 46 kB 4.5 MB/s \n",
            "\u001b[?25hRequirement already satisfied: tabulate in /usr/local/lib/python3.7/dist-packages (from flair) (0.8.9)\n",
            "Collecting pptree\n",
            "  Downloading pptree-3.1.tar.gz (3.0 kB)\n",
            "Requirement already satisfied: filelock in /usr/local/lib/python3.7/dist-packages (from gdown==4.4.0->flair) (3.7.0)\n",
            "Requirement already satisfied: beautifulsoup4 in /usr/local/lib/python3.7/dist-packages (from gdown==4.4.0->flair) (4.6.3)\n",
            "Requirement already satisfied: six in /usr/local/lib/python3.7/dist-packages (from gdown==4.4.0->flair) (1.15.0)\n",
            "Requirement already satisfied: requests[socks] in /usr/local/lib/python3.7/dist-packages (from gdown==4.4.0->flair) (2.23.0)\n",
            "Requirement already satisfied: numpy in /usr/local/lib/python3.7/dist-packages (from bpemb>=0.3.2->flair) (1.21.6)\n",
            "Requirement already satisfied: wrapt<2,>=1.10 in /usr/local/lib/python3.7/dist-packages (from deprecated>=1.2.4->flair) (1.14.1)\n",
            "Requirement already satisfied: smart-open>=1.2.1 in /usr/local/lib/python3.7/dist-packages (from gensim>=3.4.0->flair) (6.0.0)\n",
            "Requirement already satisfied: scipy>=0.18.1 in /usr/local/lib/python3.7/dist-packages (from gensim>=3.4.0->flair) (1.4.1)\n",
            "Requirement already satisfied: networkx>=2.2 in /usr/local/lib/python3.7/dist-packages (from hyperopt>=0.2.7->flair) (2.6.3)\n",
            "Requirement already satisfied: future in /usr/local/lib/python3.7/dist-packages (from hyperopt>=0.2.7->flair) (0.16.0)\n",
            "Requirement already satisfied: cloudpickle in /usr/local/lib/python3.7/dist-packages (from hyperopt>=0.2.7->flair) (1.3.0)\n",
            "Collecting py4j\n",
            "  Downloading py4j-0.10.9.5-py2.py3-none-any.whl (199 kB)\n",
            "\u001b[K     |████████████████████████████████| 199 kB 69.5 MB/s \n",
            "\u001b[?25hCollecting importlib-metadata<4.0.0,>=3.7.0\n",
            "  Downloading importlib_metadata-3.10.1-py3-none-any.whl (14 kB)\n",
            "Collecting overrides<4.0.0,>=3.0.0\n",
            "  Downloading overrides-3.1.0.tar.gz (11 kB)\n",
            "Collecting requests\n",
            "  Downloading requests-2.27.1-py2.py3-none-any.whl (63 kB)\n",
            "\u001b[K     |████████████████████████████████| 63 kB 2.0 MB/s \n",
            "\u001b[?25hRequirement already satisfied: zipp>=0.5 in /usr/local/lib/python3.7/dist-packages (from importlib-metadata<4.0.0,>=3.7.0->konoha<5.0.0,>=4.0.0->flair) (3.8.0)\n",
            "Requirement already satisfied: typing-extensions>=3.6.4 in /usr/local/lib/python3.7/dist-packages (from importlib-metadata<4.0.0,>=3.7.0->konoha<5.0.0,>=4.0.0->flair) (4.2.0)\n",
            "Requirement already satisfied: kiwisolver>=1.0.1 in /usr/local/lib/python3.7/dist-packages (from matplotlib>=2.2.3->flair) (1.4.2)\n",
            "Requirement already satisfied: pyparsing!=2.0.4,!=2.1.2,!=2.1.6,>=2.0.1 in /usr/local/lib/python3.7/dist-packages (from matplotlib>=2.2.3->flair) (3.0.9)\n",
            "Requirement already satisfied: cycler>=0.10 in /usr/local/lib/python3.7/dist-packages (from matplotlib>=2.2.3->flair) (0.11.0)\n",
            "Requirement already satisfied: idna<4,>=2.5 in /usr/local/lib/python3.7/dist-packages (from requests->bpemb>=0.3.2->flair) (2.10)\n",
            "Requirement already satisfied: certifi>=2017.4.17 in /usr/local/lib/python3.7/dist-packages (from requests->bpemb>=0.3.2->flair) (2022.5.18.1)\n",
            "Requirement already satisfied: urllib3<1.27,>=1.21.1 in /usr/local/lib/python3.7/dist-packages (from requests->bpemb>=0.3.2->flair) (1.24.3)\n",
            "Requirement already satisfied: charset-normalizer~=2.0.0 in /usr/local/lib/python3.7/dist-packages (from requests->bpemb>=0.3.2->flair) (2.0.12)\n",
            "Requirement already satisfied: joblib>=0.11 in /usr/local/lib/python3.7/dist-packages (from scikit-learn>=0.21.3->flair) (1.1.0)\n",
            "Requirement already satisfied: threadpoolctl>=2.0.0 in /usr/local/lib/python3.7/dist-packages (from scikit-learn>=0.21.3->flair) (3.1.0)\n",
            "Collecting tokenizers!=0.11.3,<0.13,>=0.11.1\n",
            "  Downloading tokenizers-0.12.1-cp37-cp37m-manylinux_2_12_x86_64.manylinux2010_x86_64.whl (6.6 MB)\n",
            "\u001b[K     |████████████████████████████████| 6.6 MB 55.7 MB/s \n",
            "\u001b[?25hCollecting pyyaml>=5.1\n",
            "  Downloading PyYAML-6.0-cp37-cp37m-manylinux_2_5_x86_64.manylinux1_x86_64.manylinux_2_12_x86_64.manylinux2010_x86_64.whl (596 kB)\n",
            "\u001b[K     |████████████████████████████████| 596 kB 46.7 MB/s \n",
            "\u001b[?25hRequirement already satisfied: packaging>=20.0 in /usr/local/lib/python3.7/dist-packages (from transformers>=4.0.0->flair) (21.3)\n",
            "Requirement already satisfied: wcwidth>=0.2.5 in /usr/local/lib/python3.7/dist-packages (from ftfy->flair) (0.2.5)\n",
            "Requirement already satisfied: PySocks!=1.5.7,>=1.5.6 in /usr/local/lib/python3.7/dist-packages (from requests->bpemb>=0.3.2->flair) (1.7.1)\n",
            "Building wheels for collected packages: mpld3, overrides, sqlitedict, langdetect, pptree, wikipedia-api\n",
            "  Building wheel for mpld3 (setup.py) ... \u001b[?25l\u001b[?25hdone\n",
            "  Created wheel for mpld3: filename=mpld3-0.3-py3-none-any.whl size=116702 sha256=7ce7e6a68b66315bd677ccfbeb9532ff62e63b7ae11d4ef6062250048176a862\n",
            "  Stored in directory: /root/.cache/pip/wheels/26/70/6a/1c79e59951a41b4045497da187b2724f5659ca64033cf4548e\n",
            "  Building wheel for overrides (setup.py) ... \u001b[?25l\u001b[?25hdone\n",
            "  Created wheel for overrides: filename=overrides-3.1.0-py3-none-any.whl size=10187 sha256=1ef2964b02031891e8ba57b7a5faf1d57463e0366e130a5821537c3dabb12780\n",
            "  Stored in directory: /root/.cache/pip/wheels/3a/0d/38/01a9bc6e20dcfaf0a6a7b552d03137558ba1c38aea47644682\n",
            "  Building wheel for sqlitedict (setup.py) ... \u001b[?25l\u001b[?25hdone\n",
            "  Created wheel for sqlitedict: filename=sqlitedict-2.0.0-py3-none-any.whl size=15736 sha256=bb8fd80309f1159041bc576e9c825248992e1e7507a90fb0c3d69ea82219297d\n",
            "  Stored in directory: /root/.cache/pip/wheels/96/dd/2e/0ed4a25cb73fc30c7ea8d10b50acb7226175736067e40a7ea3\n",
            "  Building wheel for langdetect (setup.py) ... \u001b[?25l\u001b[?25hdone\n",
            "  Created wheel for langdetect: filename=langdetect-1.0.9-py3-none-any.whl size=993242 sha256=1f600ab61d5d0d681255e572c42ada7c81ac9e6418b74f27610b2734117e519f\n",
            "  Stored in directory: /root/.cache/pip/wheels/c5/96/8a/f90c59ed25d75e50a8c10a1b1c2d4c402e4dacfa87f3aff36a\n",
            "  Building wheel for pptree (setup.py) ... \u001b[?25l\u001b[?25hdone\n",
            "  Created wheel for pptree: filename=pptree-3.1-py3-none-any.whl size=4629 sha256=9be0c7664a137a960d62a3861c8cfbd8ea91cdd3ac6943df80f6b47dfad77609\n",
            "  Stored in directory: /root/.cache/pip/wheels/9e/e8/7d/a9c3c19b4722608a0d8b05a38c36bc3f230c43becd2a46794b\n",
            "  Building wheel for wikipedia-api (setup.py) ... \u001b[?25l\u001b[?25hdone\n",
            "  Created wheel for wikipedia-api: filename=Wikipedia_API-0.5.4-py3-none-any.whl size=13477 sha256=f47c6fd6b1f9512244ccbdff60052de22f0c71f2ae1466e9fe655c1dca28a5e8\n",
            "  Stored in directory: /root/.cache/pip/wheels/d3/24/56/58ba93cf78be162451144e7a9889603f437976ef1ae7013d04\n",
            "Successfully built mpld3 overrides sqlitedict langdetect pptree wikipedia-api\n",
            "Installing collected packages: requests, pyyaml, importlib-metadata, tokenizers, sentencepiece, py4j, overrides, huggingface-hub, wikipedia-api, transformers, sqlitedict, segtok, pptree, mpld3, langdetect, konoha, janome, hyperopt, ftfy, deprecated, conllu, bpemb, flair\n",
            "  Attempting uninstall: requests\n",
            "    Found existing installation: requests 2.23.0\n",
            "    Uninstalling requests-2.23.0:\n",
            "      Successfully uninstalled requests-2.23.0\n",
            "  Attempting uninstall: pyyaml\n",
            "    Found existing installation: PyYAML 3.13\n",
            "    Uninstalling PyYAML-3.13:\n",
            "      Successfully uninstalled PyYAML-3.13\n",
            "  Attempting uninstall: importlib-metadata\n",
            "    Found existing installation: importlib-metadata 4.11.4\n",
            "    Uninstalling importlib-metadata-4.11.4:\n",
            "      Successfully uninstalled importlib-metadata-4.11.4\n",
            "  Attempting uninstall: hyperopt\n",
            "    Found existing installation: hyperopt 0.1.2\n",
            "    Uninstalling hyperopt-0.1.2:\n",
            "      Successfully uninstalled hyperopt-0.1.2\n",
            "\u001b[31mERROR: pip's dependency resolver does not currently take into account all the packages that are installed. This behaviour is the source of the following dependency conflicts.\n",
            "markdown 3.3.7 requires importlib-metadata>=4.4; python_version < \"3.10\", but you have importlib-metadata 3.10.1 which is incompatible.\n",
            "google-colab 1.0.0 requires requests~=2.23.0, but you have requests 2.27.1 which is incompatible.\n",
            "datascience 0.10.6 requires folium==0.2.1, but you have folium 0.8.3 which is incompatible.\u001b[0m\n",
            "Successfully installed bpemb-0.3.3 conllu-4.4.2 deprecated-1.2.13 flair-0.11.3 ftfy-6.1.1 huggingface-hub-0.7.0 hyperopt-0.2.7 importlib-metadata-3.10.1 janome-0.4.2 konoha-4.6.5 langdetect-1.0.9 mpld3-0.3 overrides-3.1.0 pptree-3.1 py4j-0.10.9.5 pyyaml-6.0 requests-2.27.1 segtok-1.5.11 sentencepiece-0.1.95 sqlitedict-2.0.0 tokenizers-0.12.1 transformers-4.19.2 wikipedia-api-0.5.4\n"
          ]
        }
      ]
    },
    {
      "cell_type": "code",
      "source": [
        "from flair.data import Sentence\n",
        "from flair.models import SequenceTagger\n",
        "\n",
        "# load tagger\n",
        "tagger = SequenceTagger.load(\"flair/ner-english-ontonotes-fast\")\n",
        "\n",
        "# make example sentence\n",
        "sentence = Sentence(\"On September 1st George Washington won 1 dollar.\")\n",
        "\n",
        "# predict NER tags\n",
        "tagger.predict(sentence)\n",
        "\n",
        "# print sentence\n",
        "print(sentence)\n",
        "\n",
        "# print predicted NER spans\n",
        "print('The following NER tags are found:')\n",
        "# iterate over entities and print\n",
        "for entity in sentence.get_spans('ner'):\n",
        "    print(entity)"
      ],
      "metadata": {
        "id": "w2skvXFDAdNy",
        "outputId": "e58db53a-00f3-424c-cf8f-c4c311aa0e9d",
        "colab": {
          "base_uri": "https://localhost:8080/",
          "height": 190,
          "referenced_widgets": [
            "1f99b33e704e4e11ad6369befc8ef5b2",
            "84535224eb114feda138c97975e3f4b2",
            "bebbdddcdb5844669bc388aff75a8689",
            "6e779e63bd9942e2a664895774288d8e",
            "b1a7854e07e24314969c21d3e8bdf9e4",
            "6d78380e73884d5a8d47e2e5f20db86a",
            "7c722cea75f94287822c7a0e8d986ee6",
            "314ef488ef5949af8b273f35e7081f32",
            "14892d29de364625b478e7311b1989f3",
            "30100c8c286444d79d8898b2e1d41214",
            "e8f307df094e4459a289da7b72ce5d55"
          ]
        }
      },
      "execution_count": 2,
      "outputs": [
        {
          "output_type": "display_data",
          "data": {
            "text/plain": [
              "Downloading:   0%|          | 0.00/1.33G [00:00<?, ?B/s]"
            ],
            "application/vnd.jupyter.widget-view+json": {
              "version_major": 2,
              "version_minor": 0,
              "model_id": "1f99b33e704e4e11ad6369befc8ef5b2"
            }
          },
          "metadata": {}
        },
        {
          "output_type": "stream",
          "name": "stdout",
          "text": [
            "2022-06-03 05:56:52,194 loading file /root/.flair/models/ner-english-ontonotes-fast/0d55dd3b912da9cf26e003035a0c269a0e9ab222f0be1e48a3bbba3a58c0fed0.c9907cd5fde3ce84b71a4172e7ca03841cd81ab71d13eb68aa08b259f57c00b6\n",
            "2022-06-03 05:56:57,662 SequenceTagger predicts: Dictionary with 76 tags: <unk>, O, B-CARDINAL, E-CARDINAL, S-PERSON, S-CARDINAL, S-PRODUCT, B-PRODUCT, I-PRODUCT, E-PRODUCT, B-WORK_OF_ART, I-WORK_OF_ART, E-WORK_OF_ART, B-PERSON, E-PERSON, S-GPE, B-DATE, I-DATE, E-DATE, S-ORDINAL, S-LANGUAGE, I-PERSON, S-EVENT, S-DATE, B-QUANTITY, E-QUANTITY, S-TIME, B-TIME, I-TIME, E-TIME, B-GPE, E-GPE, S-ORG, I-GPE, S-NORP, B-FAC, I-FAC, E-FAC, B-NORP, E-NORP, S-PERCENT, B-ORG, E-ORG, B-LANGUAGE, E-LANGUAGE, I-CARDINAL, I-ORG, S-WORK_OF_ART, I-QUANTITY, B-MONEY\n",
            "Sentence: \"On September 1st George Washington won 1 dollar .\" → [\"September 1st\"/DATE, \"George Washington\"/PERSON, \"1 dollar\"/MONEY]\n",
            "The following NER tags are found:\n",
            "Span[1:3]: \"September 1st\" → DATE (0.9655)\n",
            "Span[3:5]: \"George Washington\" → PERSON (0.8243)\n",
            "Span[6:8]: \"1 dollar\" → MONEY (0.8022)\n"
          ]
        }
      ]
    },
    {
      "cell_type": "code",
      "source": [
        "from flair.data import Corpus\n",
        "from flair.datasets import ColumnCorpus\n",
        "from flair.embeddings import WordEmbeddings, StackedEmbeddings, FlairEmbeddings"
      ],
      "metadata": {
        "id": "8lGQXW6qLDfI"
      },
      "execution_count": 4,
      "outputs": []
    },
    {
      "cell_type": "code",
      "source": [
        "corpus: Corpus = ColumnCorpus(\n",
        "                \"/content\",\n",
        "                column_format={0: \"text\", 1: \"pos\", 2: \"upos\", 3: \"ner\"},\n",
        "                tag_to_bioes=\"ner\",\n",
        "            )"
      ],
      "metadata": {
        "id": "JJKVY04NMats",
        "outputId": "b79dfa05-74d7-4ed5-b265-01a22fd38f05",
        "colab": {
          "base_uri": "https://localhost:8080/"
        }
      },
      "execution_count": 19,
      "outputs": [
        {
          "output_type": "stream",
          "name": "stdout",
          "text": [
            "2022-06-03 06:24:16,686 Reading data from /content\n",
            "2022-06-03 06:24:16,688 Train: /content/train.txt\n",
            "2022-06-03 06:24:16,689 Dev: /content/dev.txt\n",
            "2022-06-03 06:24:16,692 Test: /content/test.txt\n"
          ]
        }
      ]
    },
    {
      "cell_type": "code",
      "source": [
        "import pandas as pd\n",
        "data = [[len(corpus.train), len(corpus.test), len(corpus.dev)]]\n",
        "# Prints out the dataset sizes of train test and development in a table.\n",
        "pd.DataFrame(data, columns=[\"Train\", \"Test\", \"Development\"])"
      ],
      "metadata": {
        "id": "Fk9W9G2QPLz8",
        "outputId": "7a206b99-9560-49dc-812e-e84cc16189ff",
        "colab": {
          "base_uri": "https://localhost:8080/",
          "height": 81
        }
      },
      "execution_count": 20,
      "outputs": [
        {
          "output_type": "execute_result",
          "data": {
            "text/plain": [
              "   Train  Test  Development\n",
              "0  14987  3684         3466"
            ],
            "text/html": [
              "\n",
              "  <div id=\"df-9eb8f198-d49e-4f65-ae7c-b2f75fb86f67\">\n",
              "    <div class=\"colab-df-container\">\n",
              "      <div>\n",
              "<style scoped>\n",
              "    .dataframe tbody tr th:only-of-type {\n",
              "        vertical-align: middle;\n",
              "    }\n",
              "\n",
              "    .dataframe tbody tr th {\n",
              "        vertical-align: top;\n",
              "    }\n",
              "\n",
              "    .dataframe thead th {\n",
              "        text-align: right;\n",
              "    }\n",
              "</style>\n",
              "<table border=\"1\" class=\"dataframe\">\n",
              "  <thead>\n",
              "    <tr style=\"text-align: right;\">\n",
              "      <th></th>\n",
              "      <th>Train</th>\n",
              "      <th>Test</th>\n",
              "      <th>Development</th>\n",
              "    </tr>\n",
              "  </thead>\n",
              "  <tbody>\n",
              "    <tr>\n",
              "      <th>0</th>\n",
              "      <td>14987</td>\n",
              "      <td>3684</td>\n",
              "      <td>3466</td>\n",
              "    </tr>\n",
              "  </tbody>\n",
              "</table>\n",
              "</div>\n",
              "      <button class=\"colab-df-convert\" onclick=\"convertToInteractive('df-9eb8f198-d49e-4f65-ae7c-b2f75fb86f67')\"\n",
              "              title=\"Convert this dataframe to an interactive table.\"\n",
              "              style=\"display:none;\">\n",
              "        \n",
              "  <svg xmlns=\"http://www.w3.org/2000/svg\" height=\"24px\"viewBox=\"0 0 24 24\"\n",
              "       width=\"24px\">\n",
              "    <path d=\"M0 0h24v24H0V0z\" fill=\"none\"/>\n",
              "    <path d=\"M18.56 5.44l.94 2.06.94-2.06 2.06-.94-2.06-.94-.94-2.06-.94 2.06-2.06.94zm-11 1L8.5 8.5l.94-2.06 2.06-.94-2.06-.94L8.5 2.5l-.94 2.06-2.06.94zm10 10l.94 2.06.94-2.06 2.06-.94-2.06-.94-.94-2.06-.94 2.06-2.06.94z\"/><path d=\"M17.41 7.96l-1.37-1.37c-.4-.4-.92-.59-1.43-.59-.52 0-1.04.2-1.43.59L10.3 9.45l-7.72 7.72c-.78.78-.78 2.05 0 2.83L4 21.41c.39.39.9.59 1.41.59.51 0 1.02-.2 1.41-.59l7.78-7.78 2.81-2.81c.8-.78.8-2.07 0-2.86zM5.41 20L4 18.59l7.72-7.72 1.47 1.35L5.41 20z\"/>\n",
              "  </svg>\n",
              "      </button>\n",
              "      \n",
              "  <style>\n",
              "    .colab-df-container {\n",
              "      display:flex;\n",
              "      flex-wrap:wrap;\n",
              "      gap: 12px;\n",
              "    }\n",
              "\n",
              "    .colab-df-convert {\n",
              "      background-color: #E8F0FE;\n",
              "      border: none;\n",
              "      border-radius: 50%;\n",
              "      cursor: pointer;\n",
              "      display: none;\n",
              "      fill: #1967D2;\n",
              "      height: 32px;\n",
              "      padding: 0 0 0 0;\n",
              "      width: 32px;\n",
              "    }\n",
              "\n",
              "    .colab-df-convert:hover {\n",
              "      background-color: #E2EBFA;\n",
              "      box-shadow: 0px 1px 2px rgba(60, 64, 67, 0.3), 0px 1px 3px 1px rgba(60, 64, 67, 0.15);\n",
              "      fill: #174EA6;\n",
              "    }\n",
              "\n",
              "    [theme=dark] .colab-df-convert {\n",
              "      background-color: #3B4455;\n",
              "      fill: #D2E3FC;\n",
              "    }\n",
              "\n",
              "    [theme=dark] .colab-df-convert:hover {\n",
              "      background-color: #434B5C;\n",
              "      box-shadow: 0px 1px 3px 1px rgba(0, 0, 0, 0.15);\n",
              "      filter: drop-shadow(0px 1px 2px rgba(0, 0, 0, 0.3));\n",
              "      fill: #FFFFFF;\n",
              "    }\n",
              "  </style>\n",
              "\n",
              "      <script>\n",
              "        const buttonEl =\n",
              "          document.querySelector('#df-9eb8f198-d49e-4f65-ae7c-b2f75fb86f67 button.colab-df-convert');\n",
              "        buttonEl.style.display =\n",
              "          google.colab.kernel.accessAllowed ? 'block' : 'none';\n",
              "\n",
              "        async function convertToInteractive(key) {\n",
              "          const element = document.querySelector('#df-9eb8f198-d49e-4f65-ae7c-b2f75fb86f67');\n",
              "          const dataTable =\n",
              "            await google.colab.kernel.invokeFunction('convertToInteractive',\n",
              "                                                     [key], {});\n",
              "          if (!dataTable) return;\n",
              "\n",
              "          const docLinkHtml = 'Like what you see? Visit the ' +\n",
              "            '<a target=\"_blank\" href=https://colab.research.google.com/notebooks/data_table.ipynb>data table notebook</a>'\n",
              "            + ' to learn more about interactive tables.';\n",
              "          element.innerHTML = '';\n",
              "          dataTable['output_type'] = 'display_data';\n",
              "          await google.colab.output.renderOutput(dataTable, element);\n",
              "          const docLink = document.createElement('div');\n",
              "          docLink.innerHTML = docLinkHtml;\n",
              "          element.appendChild(docLink);\n",
              "        }\n",
              "      </script>\n",
              "    </div>\n",
              "  </div>\n",
              "  "
            ]
          },
          "metadata": {},
          "execution_count": 20
        }
      ]
    },
    {
      "cell_type": "code",
      "source": [
        "\n",
        "from typing import List\n",
        "from flair.trainers import ModelTrainer\n",
        "from flair.models import SequenceTagger\n",
        "from flair.embeddings import TokenEmbeddings, WordEmbeddings, StackedEmbeddings, FlairEmbeddings"
      ],
      "metadata": {
        "id": "MhOWsiSOPTF5"
      },
      "execution_count": 23,
      "outputs": []
    },
    {
      "cell_type": "code",
      "source": [
        "label_type = 'ner'\n",
        "\n",
        "# 3. make the label dictionary from the corpus\n",
        "label_dict = corpus.make_label_dictionary(label_type=label_type)\n"
      ],
      "metadata": {
        "id": "0wO0EOJjPusQ",
        "outputId": "ec9511ec-4e13-4ed2-83e8-9fb6e60a90d0",
        "colab": {
          "base_uri": "https://localhost:8080/"
        }
      },
      "execution_count": 25,
      "outputs": [
        {
          "output_type": "stream",
          "name": "stdout",
          "text": [
            "2022-06-03 06:29:19,520 Computing label dictionary. Progress:\n"
          ]
        },
        {
          "output_type": "stream",
          "name": "stderr",
          "text": [
            "14987it [00:00, 46571.68it/s]"
          ]
        },
        {
          "output_type": "stream",
          "name": "stdout",
          "text": [
            "2022-06-03 06:29:19,854 Dictionary created for label 'ner' with 5 values: LOC (seen 7140 times), PER (seen 6600 times), ORG (seen 6321 times), MISC (seen 3438 times)\n"
          ]
        },
        {
          "output_type": "stream",
          "name": "stderr",
          "text": [
            "\n"
          ]
        }
      ]
    },
    {
      "cell_type": "code",
      "source": [
        "embedding_types = [\n",
        "    WordEmbeddings('glove'),\n",
        "    FlairEmbeddings('news-forward'),\n",
        "    FlairEmbeddings('news-backward'),\n",
        "]"
      ],
      "metadata": {
        "id": "cYnRRx4uPu0A",
        "outputId": "3b85169d-f746-4cc1-89fa-97b3f5bb09e1",
        "colab": {
          "base_uri": "https://localhost:8080/"
        }
      },
      "execution_count": 26,
      "outputs": [
        {
          "output_type": "stream",
          "name": "stdout",
          "text": [
            "2022-06-03 06:29:40,557 https://flair.informatik.hu-berlin.de/resources/embeddings/token/glove.gensim.vectors.npy not found in cache, downloading to /tmp/tmptv6ey0bq\n"
          ]
        },
        {
          "output_type": "stream",
          "name": "stderr",
          "text": [
            "100%|██████████| 160000128/160000128 [00:09<00:00, 16653300.56B/s]"
          ]
        },
        {
          "output_type": "stream",
          "name": "stdout",
          "text": [
            "2022-06-03 06:29:50,667 copying /tmp/tmptv6ey0bq to cache at /root/.flair/embeddings/glove.gensim.vectors.npy\n"
          ]
        },
        {
          "output_type": "stream",
          "name": "stderr",
          "text": [
            "\n"
          ]
        },
        {
          "output_type": "stream",
          "name": "stdout",
          "text": [
            "2022-06-03 06:29:51,187 removing temp file /tmp/tmptv6ey0bq\n",
            "2022-06-03 06:29:52,083 https://flair.informatik.hu-berlin.de/resources/embeddings/token/glove.gensim not found in cache, downloading to /tmp/tmp9f9y_5uk\n"
          ]
        },
        {
          "output_type": "stream",
          "name": "stderr",
          "text": [
            "100%|██████████| 21494764/21494764 [00:02<00:00, 9674534.51B/s] "
          ]
        },
        {
          "output_type": "stream",
          "name": "stdout",
          "text": [
            "2022-06-03 06:29:54,785 copying /tmp/tmp9f9y_5uk to cache at /root/.flair/embeddings/glove.gensim\n",
            "2022-06-03 06:29:54,809 removing temp file /tmp/tmp9f9y_5uk\n"
          ]
        },
        {
          "output_type": "stream",
          "name": "stderr",
          "text": [
            "\n"
          ]
        },
        {
          "output_type": "stream",
          "name": "stdout",
          "text": [
            "2022-06-03 06:29:56,358 https://flair.informatik.hu-berlin.de/resources/embeddings/flair/news-forward-0.4.1.pt not found in cache, downloading to /tmp/tmp7vklnxkg\n"
          ]
        },
        {
          "output_type": "stream",
          "name": "stderr",
          "text": [
            "100%|██████████| 73034624/73034624 [00:04<00:00, 14765552.51B/s]"
          ]
        },
        {
          "output_type": "stream",
          "name": "stdout",
          "text": [
            "2022-06-03 06:30:01,832 copying /tmp/tmp7vklnxkg to cache at /root/.flair/embeddings/news-forward-0.4.1.pt\n"
          ]
        },
        {
          "output_type": "stream",
          "name": "stderr",
          "text": [
            "\n"
          ]
        },
        {
          "output_type": "stream",
          "name": "stdout",
          "text": [
            "2022-06-03 06:30:01,913 removing temp file /tmp/tmp7vklnxkg\n",
            "2022-06-03 06:30:02,952 https://flair.informatik.hu-berlin.de/resources/embeddings/flair/news-backward-0.4.1.pt not found in cache, downloading to /tmp/tmp3xe8fu9_\n"
          ]
        },
        {
          "output_type": "stream",
          "name": "stderr",
          "text": [
            "100%|██████████| 73034575/73034575 [00:05<00:00, 14316535.00B/s]"
          ]
        },
        {
          "output_type": "stream",
          "name": "stdout",
          "text": [
            "2022-06-03 06:30:08,546 copying /tmp/tmp3xe8fu9_ to cache at /root/.flair/embeddings/news-backward-0.4.1.pt\n"
          ]
        },
        {
          "output_type": "stream",
          "name": "stderr",
          "text": [
            "\n"
          ]
        },
        {
          "output_type": "stream",
          "name": "stdout",
          "text": [
            "2022-06-03 06:30:08,640 removing temp file /tmp/tmp3xe8fu9_\n"
          ]
        }
      ]
    },
    {
      "cell_type": "code",
      "source": [
        "embeddings = StackedEmbeddings(embeddings=embedding_types)\n"
      ],
      "metadata": {
        "id": "Mlg2tjRvQeDw"
      },
      "execution_count": 27,
      "outputs": []
    },
    {
      "cell_type": "code",
      "source": [
        "tagger = SequenceTagger(hidden_size=256,\n",
        "                        embeddings=embeddings,\n",
        "                        tag_dictionary=label_dict,\n",
        "                        tag_type=label_type,\n",
        "                        use_crf=True)"
      ],
      "metadata": {
        "id": "FaRe4MGkQhJ0",
        "outputId": "625af0d9-40f5-4395-cfd0-3579ce8de801",
        "colab": {
          "base_uri": "https://localhost:8080/"
        }
      },
      "execution_count": 28,
      "outputs": [
        {
          "output_type": "stream",
          "name": "stdout",
          "text": [
            "2022-06-03 06:30:37,128 SequenceTagger predicts: Dictionary with 17 tags: O, S-LOC, B-LOC, E-LOC, I-LOC, S-PER, B-PER, E-PER, I-PER, S-ORG, B-ORG, E-ORG, I-ORG, S-MISC, B-MISC, E-MISC, I-MISC\n"
          ]
        }
      ]
    },
    {
      "cell_type": "code",
      "source": [
        "trainer = ModelTrainer(tagger, corpus)"
      ],
      "metadata": {
        "id": "hhsndzGZQkjU"
      },
      "execution_count": 29,
      "outputs": []
    },
    {
      "cell_type": "code",
      "source": [
        "trainer.train('resources/taggers/sota-ner-flair',\n",
        "              learning_rate=0.1,\n",
        "              mini_batch_size=32,\n",
        "              max_epochs=11)"
      ],
      "metadata": {
        "id": "Y9J56ZztQniN",
        "outputId": "da8ae11f-0543-4861-92f5-5b86574c7ca7",
        "colab": {
          "base_uri": "https://localhost:8080/"
        }
      },
      "execution_count": 31,
      "outputs": [
        {
          "output_type": "stream",
          "name": "stdout",
          "text": [
            "2022-06-03 06:43:32,125 ----------------------------------------------------------------------------------------------------\n",
            "2022-06-03 06:43:32,128 Model: \"SequenceTagger(\n",
            "  (embeddings): StackedEmbeddings(\n",
            "    (list_embedding_0): WordEmbeddings(\n",
            "      'glove'\n",
            "      (embedding): Embedding(400001, 100)\n",
            "    )\n",
            "    (list_embedding_1): FlairEmbeddings(\n",
            "      (lm): LanguageModel(\n",
            "        (drop): Dropout(p=0.05, inplace=False)\n",
            "        (encoder): Embedding(300, 100)\n",
            "        (rnn): LSTM(100, 2048)\n",
            "        (decoder): Linear(in_features=2048, out_features=300, bias=True)\n",
            "      )\n",
            "    )\n",
            "    (list_embedding_2): FlairEmbeddings(\n",
            "      (lm): LanguageModel(\n",
            "        (drop): Dropout(p=0.05, inplace=False)\n",
            "        (encoder): Embedding(300, 100)\n",
            "        (rnn): LSTM(100, 2048)\n",
            "        (decoder): Linear(in_features=2048, out_features=300, bias=True)\n",
            "      )\n",
            "    )\n",
            "  )\n",
            "  (word_dropout): WordDropout(p=0.05)\n",
            "  (locked_dropout): LockedDropout(p=0.5)\n",
            "  (embedding2nn): Linear(in_features=4196, out_features=4196, bias=True)\n",
            "  (rnn): LSTM(4196, 256, batch_first=True, bidirectional=True)\n",
            "  (linear): Linear(in_features=512, out_features=19, bias=True)\n",
            "  (loss_function): ViterbiLoss()\n",
            "  (crf): CRF()\n",
            ")\"\n",
            "2022-06-03 06:43:32,132 ----------------------------------------------------------------------------------------------------\n",
            "2022-06-03 06:43:32,135 Corpus: \"Corpus: 14987 train + 3466 dev + 3684 test sentences\"\n",
            "2022-06-03 06:43:32,138 ----------------------------------------------------------------------------------------------------\n",
            "2022-06-03 06:43:32,139 Parameters:\n",
            "2022-06-03 06:43:32,140  - learning_rate: \"0.100000\"\n",
            "2022-06-03 06:43:32,142  - mini_batch_size: \"32\"\n",
            "2022-06-03 06:43:32,143  - patience: \"3\"\n",
            "2022-06-03 06:43:32,144  - anneal_factor: \"0.5\"\n",
            "2022-06-03 06:43:32,146  - max_epochs: \"11\"\n",
            "2022-06-03 06:43:32,147  - shuffle: \"True\"\n",
            "2022-06-03 06:43:32,149  - train_with_dev: \"False\"\n",
            "2022-06-03 06:43:32,150  - batch_growth_annealing: \"False\"\n",
            "2022-06-03 06:43:32,152 ----------------------------------------------------------------------------------------------------\n",
            "2022-06-03 06:43:32,153 Model training base path: \"resources/taggers/sota-ner-flair\"\n",
            "2022-06-03 06:43:32,155 ----------------------------------------------------------------------------------------------------\n",
            "2022-06-03 06:43:32,156 Device: cuda:0\n",
            "2022-06-03 06:43:32,157 ----------------------------------------------------------------------------------------------------\n",
            "2022-06-03 06:43:32,159 Embeddings storage mode: cpu\n",
            "2022-06-03 06:43:32,160 ----------------------------------------------------------------------------------------------------\n"
          ]
        },
        {
          "output_type": "stream",
          "name": "stderr",
          "text": [
            "/usr/local/lib/python3.7/dist-packages/flair/trainers/trainer.py:65: UserWarning: There should be no best model saved at epoch 1 except there is a model from previous trainings in your training folder. All previous best models will be deleted.\n",
            "  \"There should be no best model saved at epoch 1 except there \"\n"
          ]
        },
        {
          "output_type": "stream",
          "name": "stdout",
          "text": [
            "2022-06-03 06:43:36,009 epoch 1 - iter 46/469 - loss 0.04024440 - samples/sec: 382.96 - lr: 0.100000\n",
            "2022-06-03 06:43:39,776 epoch 1 - iter 92/469 - loss 0.03931258 - samples/sec: 391.42 - lr: 0.100000\n",
            "2022-06-03 06:43:43,111 epoch 1 - iter 138/469 - loss 0.03740022 - samples/sec: 442.03 - lr: 0.100000\n",
            "2022-06-03 06:43:46,141 epoch 1 - iter 184/469 - loss 0.03747905 - samples/sec: 487.03 - lr: 0.100000\n",
            "2022-06-03 06:43:49,368 epoch 1 - iter 230/469 - loss 0.03665945 - samples/sec: 456.82 - lr: 0.100000\n",
            "2022-06-03 06:43:53,297 epoch 1 - iter 276/469 - loss 0.03643385 - samples/sec: 375.15 - lr: 0.100000\n",
            "2022-06-03 06:43:57,273 epoch 1 - iter 322/469 - loss 0.03767082 - samples/sec: 370.62 - lr: 0.100000\n",
            "2022-06-03 06:44:00,945 epoch 1 - iter 368/469 - loss 0.03834990 - samples/sec: 401.45 - lr: 0.100000\n",
            "2022-06-03 06:44:05,323 epoch 1 - iter 414/469 - loss 0.03789541 - samples/sec: 336.60 - lr: 0.100000\n",
            "2022-06-03 06:44:10,385 epoch 1 - iter 460/469 - loss 0.03747462 - samples/sec: 291.10 - lr: 0.100000\n",
            "2022-06-03 06:44:11,030 ----------------------------------------------------------------------------------------------------\n",
            "2022-06-03 06:44:11,032 EPOCH 1 done: loss 0.0377 - lr 0.100000\n"
          ]
        },
        {
          "output_type": "stream",
          "name": "stderr",
          "text": [
            "100%|██████████| 109/109 [00:12<00:00,  8.68it/s]"
          ]
        },
        {
          "output_type": "stream",
          "name": "stdout",
          "text": [
            "2022-06-03 06:44:23,623 Evaluating as a multi-label problem: False\n",
            "2022-06-03 06:44:23,699 DEV : loss 0.029514789581298828 - f1-score (micro avg)  0.9487\n"
          ]
        },
        {
          "output_type": "stream",
          "name": "stderr",
          "text": [
            "\n"
          ]
        },
        {
          "output_type": "stream",
          "name": "stdout",
          "text": [
            "2022-06-03 06:44:23,971 BAD EPOCHS (no improvement): 0\n",
            "2022-06-03 06:44:23,973 saving best model\n",
            "2022-06-03 06:44:26,092 ----------------------------------------------------------------------------------------------------\n",
            "2022-06-03 06:44:30,351 epoch 2 - iter 46/469 - loss 0.03505638 - samples/sec: 349.34 - lr: 0.100000\n",
            "2022-06-03 06:44:34,430 epoch 2 - iter 92/469 - loss 0.03501835 - samples/sec: 361.41 - lr: 0.100000\n",
            "2022-06-03 06:44:38,572 epoch 2 - iter 138/469 - loss 0.03329089 - samples/sec: 356.18 - lr: 0.100000\n",
            "2022-06-03 06:44:42,791 epoch 2 - iter 184/469 - loss 0.03421337 - samples/sec: 349.35 - lr: 0.100000\n",
            "2022-06-03 06:44:46,959 epoch 2 - iter 230/469 - loss 0.03518329 - samples/sec: 353.58 - lr: 0.100000\n",
            "2022-06-03 06:44:51,072 epoch 2 - iter 276/469 - loss 0.03462263 - samples/sec: 358.34 - lr: 0.100000\n",
            "2022-06-03 06:44:55,133 epoch 2 - iter 322/469 - loss 0.03505675 - samples/sec: 362.93 - lr: 0.100000\n",
            "2022-06-03 06:44:59,240 epoch 2 - iter 368/469 - loss 0.03520258 - samples/sec: 358.96 - lr: 0.100000\n",
            "2022-06-03 06:45:03,422 epoch 2 - iter 414/469 - loss 0.03540001 - samples/sec: 352.44 - lr: 0.100000\n",
            "2022-06-03 06:45:07,526 epoch 2 - iter 460/469 - loss 0.03523908 - samples/sec: 359.10 - lr: 0.100000\n",
            "2022-06-03 06:45:08,360 ----------------------------------------------------------------------------------------------------\n",
            "2022-06-03 06:45:08,364 EPOCH 2 done: loss 0.0352 - lr 0.100000\n"
          ]
        },
        {
          "output_type": "stream",
          "name": "stderr",
          "text": [
            "100%|██████████| 109/109 [00:14<00:00,  7.28it/s]"
          ]
        },
        {
          "output_type": "stream",
          "name": "stdout",
          "text": [
            "2022-06-03 06:45:23,365 Evaluating as a multi-label problem: False\n",
            "2022-06-03 06:45:23,416 DEV : loss 0.03013870306313038 - f1-score (micro avg)  0.9488\n"
          ]
        },
        {
          "output_type": "stream",
          "name": "stderr",
          "text": [
            "\n"
          ]
        },
        {
          "output_type": "stream",
          "name": "stdout",
          "text": [
            "2022-06-03 06:45:23,691 BAD EPOCHS (no improvement): 0\n",
            "2022-06-03 06:45:23,693 saving best model\n",
            "2022-06-03 06:45:25,827 ----------------------------------------------------------------------------------------------------\n",
            "2022-06-03 06:45:30,203 epoch 3 - iter 46/469 - loss 0.03279515 - samples/sec: 338.79 - lr: 0.100000\n",
            "2022-06-03 06:45:34,433 epoch 3 - iter 92/469 - loss 0.03445036 - samples/sec: 348.39 - lr: 0.100000\n",
            "2022-06-03 06:45:38,436 epoch 3 - iter 138/469 - loss 0.03364448 - samples/sec: 368.23 - lr: 0.100000\n",
            "2022-06-03 06:45:42,467 epoch 3 - iter 184/469 - loss 0.03398093 - samples/sec: 365.57 - lr: 0.100000\n",
            "2022-06-03 06:45:46,669 epoch 3 - iter 230/469 - loss 0.03455329 - samples/sec: 350.80 - lr: 0.100000\n",
            "2022-06-03 06:45:50,784 epoch 3 - iter 276/469 - loss 0.03367638 - samples/sec: 358.28 - lr: 0.100000\n",
            "2022-06-03 06:45:55,028 epoch 3 - iter 322/469 - loss 0.03385059 - samples/sec: 347.27 - lr: 0.100000\n",
            "2022-06-03 06:45:59,136 epoch 3 - iter 368/469 - loss 0.03397641 - samples/sec: 358.79 - lr: 0.100000\n",
            "2022-06-03 06:46:03,299 epoch 3 - iter 414/469 - loss 0.03411004 - samples/sec: 354.10 - lr: 0.100000\n",
            "2022-06-03 06:46:07,400 epoch 3 - iter 460/469 - loss 0.03415458 - samples/sec: 359.39 - lr: 0.100000\n",
            "2022-06-03 06:46:08,137 ----------------------------------------------------------------------------------------------------\n",
            "2022-06-03 06:46:08,138 EPOCH 3 done: loss 0.0342 - lr 0.100000\n"
          ]
        },
        {
          "output_type": "stream",
          "name": "stderr",
          "text": [
            "100%|██████████| 109/109 [00:12<00:00,  8.71it/s]"
          ]
        },
        {
          "output_type": "stream",
          "name": "stdout",
          "text": [
            "2022-06-03 06:46:20,679 Evaluating as a multi-label problem: False\n",
            "2022-06-03 06:46:20,742 DEV : loss 0.028680458664894104 - f1-score (micro avg)  0.9508\n"
          ]
        },
        {
          "output_type": "stream",
          "name": "stderr",
          "text": [
            "\n"
          ]
        },
        {
          "output_type": "stream",
          "name": "stdout",
          "text": [
            "2022-06-03 06:46:21,033 BAD EPOCHS (no improvement): 0\n",
            "2022-06-03 06:46:21,035 saving best model\n",
            "2022-06-03 06:46:23,216 ----------------------------------------------------------------------------------------------------\n",
            "2022-06-03 06:46:27,511 epoch 4 - iter 46/469 - loss 0.03358613 - samples/sec: 344.74 - lr: 0.100000\n",
            "2022-06-03 06:46:31,758 epoch 4 - iter 92/469 - loss 0.03051956 - samples/sec: 347.15 - lr: 0.100000\n",
            "2022-06-03 06:46:35,901 epoch 4 - iter 138/469 - loss 0.03150225 - samples/sec: 355.73 - lr: 0.100000\n",
            "2022-06-03 06:46:40,042 epoch 4 - iter 184/469 - loss 0.03115606 - samples/sec: 355.96 - lr: 0.100000\n",
            "2022-06-03 06:46:44,125 epoch 4 - iter 230/469 - loss 0.03203197 - samples/sec: 360.94 - lr: 0.100000\n",
            "2022-06-03 06:46:48,168 epoch 4 - iter 276/469 - loss 0.03208878 - samples/sec: 364.55 - lr: 0.100000\n",
            "2022-06-03 06:46:52,447 epoch 4 - iter 322/469 - loss 0.03193393 - samples/sec: 344.44 - lr: 0.100000\n",
            "2022-06-03 06:46:56,634 epoch 4 - iter 368/469 - loss 0.03157494 - samples/sec: 352.28 - lr: 0.100000\n",
            "2022-06-03 06:47:01,002 epoch 4 - iter 414/469 - loss 0.03111147 - samples/sec: 337.37 - lr: 0.100000\n",
            "2022-06-03 06:47:05,025 epoch 4 - iter 460/469 - loss 0.03122315 - samples/sec: 366.95 - lr: 0.100000\n",
            "2022-06-03 06:47:05,795 ----------------------------------------------------------------------------------------------------\n",
            "2022-06-03 06:47:05,798 EPOCH 4 done: loss 0.0314 - lr 0.100000\n"
          ]
        },
        {
          "output_type": "stream",
          "name": "stderr",
          "text": [
            "100%|██████████| 109/109 [00:12<00:00,  8.62it/s]"
          ]
        },
        {
          "output_type": "stream",
          "name": "stdout",
          "text": [
            "2022-06-03 06:47:18,472 Evaluating as a multi-label problem: False\n",
            "2022-06-03 06:47:18,520 DEV : loss 0.02829403057694435 - f1-score (micro avg)  0.9514\n"
          ]
        },
        {
          "output_type": "stream",
          "name": "stderr",
          "text": [
            "\n"
          ]
        },
        {
          "output_type": "stream",
          "name": "stdout",
          "text": [
            "2022-06-03 06:47:18,795 BAD EPOCHS (no improvement): 0\n",
            "2022-06-03 06:47:18,800 saving best model\n",
            "2022-06-03 06:47:20,947 ----------------------------------------------------------------------------------------------------\n",
            "2022-06-03 06:47:25,799 epoch 5 - iter 46/469 - loss 0.02954264 - samples/sec: 304.53 - lr: 0.100000\n",
            "2022-06-03 06:47:30,013 epoch 5 - iter 92/469 - loss 0.03092449 - samples/sec: 349.82 - lr: 0.100000\n",
            "2022-06-03 06:47:34,215 epoch 5 - iter 138/469 - loss 0.03064582 - samples/sec: 350.75 - lr: 0.100000\n",
            "2022-06-03 06:47:38,407 epoch 5 - iter 184/469 - loss 0.03064301 - samples/sec: 351.76 - lr: 0.100000\n",
            "2022-06-03 06:47:42,563 epoch 5 - iter 230/469 - loss 0.03142480 - samples/sec: 354.67 - lr: 0.100000\n",
            "2022-06-03 06:47:46,703 epoch 5 - iter 276/469 - loss 0.03145804 - samples/sec: 356.02 - lr: 0.100000\n",
            "2022-06-03 06:47:50,753 epoch 5 - iter 322/469 - loss 0.03132992 - samples/sec: 363.95 - lr: 0.100000\n",
            "2022-06-03 06:47:54,868 epoch 5 - iter 368/469 - loss 0.03180657 - samples/sec: 358.32 - lr: 0.100000\n",
            "2022-06-03 06:47:58,999 epoch 5 - iter 414/469 - loss 0.03193792 - samples/sec: 356.80 - lr: 0.100000\n",
            "2022-06-03 06:48:03,158 epoch 5 - iter 460/469 - loss 0.03196076 - samples/sec: 354.46 - lr: 0.100000\n",
            "2022-06-03 06:48:03,940 ----------------------------------------------------------------------------------------------------\n",
            "2022-06-03 06:48:03,941 EPOCH 5 done: loss 0.0319 - lr 0.100000\n"
          ]
        },
        {
          "output_type": "stream",
          "name": "stderr",
          "text": [
            "100%|██████████| 109/109 [00:12<00:00,  8.75it/s]"
          ]
        },
        {
          "output_type": "stream",
          "name": "stdout",
          "text": [
            "2022-06-03 06:48:16,436 Evaluating as a multi-label problem: False\n",
            "2022-06-03 06:48:16,494 DEV : loss 0.029214348644018173 - f1-score (micro avg)  0.9517\n"
          ]
        },
        {
          "output_type": "stream",
          "name": "stderr",
          "text": [
            "\n"
          ]
        },
        {
          "output_type": "stream",
          "name": "stdout",
          "text": [
            "2022-06-03 06:48:16,771 BAD EPOCHS (no improvement): 0\n",
            "2022-06-03 06:48:16,777 saving best model\n",
            "2022-06-03 06:48:18,913 ----------------------------------------------------------------------------------------------------\n",
            "2022-06-03 06:48:23,114 epoch 6 - iter 46/469 - loss 0.02760361 - samples/sec: 352.68 - lr: 0.100000\n",
            "2022-06-03 06:48:27,316 epoch 6 - iter 92/469 - loss 0.03143594 - samples/sec: 350.75 - lr: 0.100000\n",
            "2022-06-03 06:48:31,437 epoch 6 - iter 138/469 - loss 0.03013877 - samples/sec: 357.67 - lr: 0.100000\n",
            "2022-06-03 06:48:35,572 epoch 6 - iter 184/469 - loss 0.03068943 - samples/sec: 356.43 - lr: 0.100000\n",
            "2022-06-03 06:48:39,675 epoch 6 - iter 230/469 - loss 0.03046909 - samples/sec: 359.22 - lr: 0.100000\n",
            "2022-06-03 06:48:46,225 epoch 6 - iter 276/469 - loss 0.02984568 - samples/sec: 224.95 - lr: 0.100000\n",
            "2022-06-03 06:48:50,398 epoch 6 - iter 322/469 - loss 0.03084136 - samples/sec: 353.16 - lr: 0.100000\n",
            "2022-06-03 06:48:54,536 epoch 6 - iter 368/469 - loss 0.03066714 - samples/sec: 356.21 - lr: 0.100000\n",
            "2022-06-03 06:48:58,747 epoch 6 - iter 414/469 - loss 0.03003593 - samples/sec: 350.04 - lr: 0.100000\n",
            "2022-06-03 06:49:03,044 epoch 6 - iter 460/469 - loss 0.03010305 - samples/sec: 343.03 - lr: 0.100000\n",
            "2022-06-03 06:49:03,823 ----------------------------------------------------------------------------------------------------\n",
            "2022-06-03 06:49:03,826 EPOCH 6 done: loss 0.0301 - lr 0.100000\n"
          ]
        },
        {
          "output_type": "stream",
          "name": "stderr",
          "text": [
            "100%|██████████| 109/109 [00:12<00:00,  8.56it/s]"
          ]
        },
        {
          "output_type": "stream",
          "name": "stdout",
          "text": [
            "2022-06-03 06:49:16,591 Evaluating as a multi-label problem: False\n",
            "2022-06-03 06:49:16,641 DEV : loss 0.02858860045671463 - f1-score (micro avg)  0.9533\n"
          ]
        },
        {
          "output_type": "stream",
          "name": "stderr",
          "text": [
            "\n"
          ]
        },
        {
          "output_type": "stream",
          "name": "stdout",
          "text": [
            "2022-06-03 06:49:16,928 BAD EPOCHS (no improvement): 0\n",
            "2022-06-03 06:49:16,931 saving best model\n",
            "2022-06-03 06:49:19,080 ----------------------------------------------------------------------------------------------------\n",
            "2022-06-03 06:49:23,291 epoch 7 - iter 46/469 - loss 0.02421355 - samples/sec: 354.16 - lr: 0.100000\n",
            "2022-06-03 06:49:27,448 epoch 7 - iter 92/469 - loss 0.02712751 - samples/sec: 354.54 - lr: 0.100000\n",
            "2022-06-03 06:49:31,661 epoch 7 - iter 138/469 - loss 0.02756284 - samples/sec: 349.93 - lr: 0.100000\n",
            "2022-06-03 06:49:35,852 epoch 7 - iter 184/469 - loss 0.02922349 - samples/sec: 351.91 - lr: 0.100000\n",
            "2022-06-03 06:49:40,160 epoch 7 - iter 230/469 - loss 0.02973789 - samples/sec: 342.12 - lr: 0.100000\n",
            "2022-06-03 06:49:44,299 epoch 7 - iter 276/469 - loss 0.03016626 - samples/sec: 356.02 - lr: 0.100000\n",
            "2022-06-03 06:49:48,501 epoch 7 - iter 322/469 - loss 0.02983255 - samples/sec: 350.74 - lr: 0.100000\n",
            "2022-06-03 06:49:52,666 epoch 7 - iter 368/469 - loss 0.02989491 - samples/sec: 353.92 - lr: 0.100000\n",
            "2022-06-03 06:49:56,800 epoch 7 - iter 414/469 - loss 0.02958368 - samples/sec: 356.57 - lr: 0.100000\n",
            "2022-06-03 06:50:01,009 epoch 7 - iter 460/469 - loss 0.02945616 - samples/sec: 350.13 - lr: 0.100000\n",
            "2022-06-03 06:50:01,821 ----------------------------------------------------------------------------------------------------\n",
            "2022-06-03 06:50:01,823 EPOCH 7 done: loss 0.0294 - lr 0.100000\n"
          ]
        },
        {
          "output_type": "stream",
          "name": "stderr",
          "text": [
            "100%|██████████| 109/109 [00:12<00:00,  8.73it/s]"
          ]
        },
        {
          "output_type": "stream",
          "name": "stdout",
          "text": [
            "2022-06-03 06:50:14,340 Evaluating as a multi-label problem: False\n",
            "2022-06-03 06:50:14,388 DEV : loss 0.02982337400317192 - f1-score (micro avg)  0.9504\n"
          ]
        },
        {
          "output_type": "stream",
          "name": "stderr",
          "text": [
            "\n"
          ]
        },
        {
          "output_type": "stream",
          "name": "stdout",
          "text": [
            "2022-06-03 06:50:14,657 BAD EPOCHS (no improvement): 1\n",
            "2022-06-03 06:50:14,660 ----------------------------------------------------------------------------------------------------\n",
            "2022-06-03 06:50:19,010 epoch 8 - iter 46/469 - loss 0.02454360 - samples/sec: 338.96 - lr: 0.100000\n",
            "2022-06-03 06:50:23,085 epoch 8 - iter 92/469 - loss 0.02533294 - samples/sec: 361.74 - lr: 0.100000\n",
            "2022-06-03 06:50:27,179 epoch 8 - iter 138/469 - loss 0.02671231 - samples/sec: 360.16 - lr: 0.100000\n",
            "2022-06-03 06:50:31,384 epoch 8 - iter 184/469 - loss 0.02805104 - samples/sec: 350.49 - lr: 0.100000\n",
            "2022-06-03 06:50:35,506 epoch 8 - iter 230/469 - loss 0.02804316 - samples/sec: 357.57 - lr: 0.100000\n",
            "2022-06-03 06:50:39,713 epoch 8 - iter 276/469 - loss 0.02808986 - samples/sec: 350.28 - lr: 0.100000\n",
            "2022-06-03 06:50:43,898 epoch 8 - iter 322/469 - loss 0.02809084 - samples/sec: 352.22 - lr: 0.100000\n",
            "2022-06-03 06:50:48,266 epoch 8 - iter 368/469 - loss 0.02817862 - samples/sec: 337.45 - lr: 0.100000\n",
            "2022-06-03 06:50:52,396 epoch 8 - iter 414/469 - loss 0.02809894 - samples/sec: 357.09 - lr: 0.100000\n",
            "2022-06-03 06:50:56,512 epoch 8 - iter 460/469 - loss 0.02797497 - samples/sec: 358.04 - lr: 0.100000\n",
            "2022-06-03 06:50:57,254 ----------------------------------------------------------------------------------------------------\n",
            "2022-06-03 06:50:57,255 EPOCH 8 done: loss 0.0281 - lr 0.100000\n"
          ]
        },
        {
          "output_type": "stream",
          "name": "stderr",
          "text": [
            "100%|██████████| 109/109 [00:12<00:00,  8.76it/s]"
          ]
        },
        {
          "output_type": "stream",
          "name": "stdout",
          "text": [
            "2022-06-03 06:51:09,735 Evaluating as a multi-label problem: False\n",
            "2022-06-03 06:51:09,784 DEV : loss 0.029249344021081924 - f1-score (micro avg)  0.9526\n"
          ]
        },
        {
          "output_type": "stream",
          "name": "stderr",
          "text": [
            "\n"
          ]
        },
        {
          "output_type": "stream",
          "name": "stdout",
          "text": [
            "2022-06-03 06:51:10,066 BAD EPOCHS (no improvement): 2\n",
            "2022-06-03 06:51:10,068 ----------------------------------------------------------------------------------------------------\n",
            "2022-06-03 06:51:14,304 epoch 9 - iter 46/469 - loss 0.03117869 - samples/sec: 348.17 - lr: 0.100000\n",
            "2022-06-03 06:51:18,444 epoch 9 - iter 92/469 - loss 0.02929483 - samples/sec: 356.06 - lr: 0.100000\n",
            "2022-06-03 06:51:22,594 epoch 9 - iter 138/469 - loss 0.02776571 - samples/sec: 355.09 - lr: 0.100000\n",
            "2022-06-03 06:51:26,810 epoch 9 - iter 184/469 - loss 0.02716380 - samples/sec: 349.60 - lr: 0.100000\n",
            "2022-06-03 06:51:31,119 epoch 9 - iter 230/469 - loss 0.02706909 - samples/sec: 342.03 - lr: 0.100000\n",
            "2022-06-03 06:51:35,243 epoch 9 - iter 276/469 - loss 0.02767119 - samples/sec: 357.35 - lr: 0.100000\n",
            "2022-06-03 06:51:39,414 epoch 9 - iter 322/469 - loss 0.02741189 - samples/sec: 353.45 - lr: 0.100000\n",
            "2022-06-03 06:51:43,506 epoch 9 - iter 368/469 - loss 0.02722857 - samples/sec: 360.23 - lr: 0.100000\n",
            "2022-06-03 06:51:47,797 epoch 9 - iter 414/469 - loss 0.02741347 - samples/sec: 343.48 - lr: 0.100000\n",
            "2022-06-03 06:51:51,794 epoch 9 - iter 460/469 - loss 0.02731273 - samples/sec: 368.71 - lr: 0.100000\n",
            "2022-06-03 06:51:52,532 ----------------------------------------------------------------------------------------------------\n",
            "2022-06-03 06:51:52,534 EPOCH 9 done: loss 0.0272 - lr 0.100000\n"
          ]
        },
        {
          "output_type": "stream",
          "name": "stderr",
          "text": [
            "100%|██████████| 109/109 [00:15<00:00,  7.17it/s]"
          ]
        },
        {
          "output_type": "stream",
          "name": "stdout",
          "text": [
            "2022-06-03 06:52:07,779 Evaluating as a multi-label problem: False\n",
            "2022-06-03 06:52:07,865 DEV : loss 0.028277914971113205 - f1-score (micro avg)  0.9518\n"
          ]
        },
        {
          "output_type": "stream",
          "name": "stderr",
          "text": [
            "\n"
          ]
        },
        {
          "output_type": "stream",
          "name": "stdout",
          "text": [
            "2022-06-03 06:52:08,341 BAD EPOCHS (no improvement): 3\n",
            "2022-06-03 06:52:08,343 ----------------------------------------------------------------------------------------------------\n",
            "2022-06-03 06:52:13,103 epoch 10 - iter 46/469 - loss 0.02329278 - samples/sec: 310.16 - lr: 0.100000\n",
            "2022-06-03 06:52:17,269 epoch 10 - iter 92/469 - loss 0.02420972 - samples/sec: 353.75 - lr: 0.100000\n",
            "2022-06-03 06:52:21,426 epoch 10 - iter 138/469 - loss 0.02563386 - samples/sec: 354.54 - lr: 0.100000\n",
            "2022-06-03 06:52:25,667 epoch 10 - iter 184/469 - loss 0.02544757 - samples/sec: 347.55 - lr: 0.100000\n",
            "2022-06-03 06:52:29,794 epoch 10 - iter 230/469 - loss 0.02568238 - samples/sec: 357.12 - lr: 0.100000\n",
            "2022-06-03 06:52:33,868 epoch 10 - iter 276/469 - loss 0.02630754 - samples/sec: 361.77 - lr: 0.100000\n",
            "2022-06-03 06:52:37,970 epoch 10 - iter 322/469 - loss 0.02697286 - samples/sec: 359.35 - lr: 0.100000\n",
            "2022-06-03 06:52:42,072 epoch 10 - iter 368/469 - loss 0.02815154 - samples/sec: 359.29 - lr: 0.100000\n",
            "2022-06-03 06:52:46,304 epoch 10 - iter 414/469 - loss 0.02797703 - samples/sec: 348.23 - lr: 0.100000\n",
            "2022-06-03 06:52:50,445 epoch 10 - iter 460/469 - loss 0.02751492 - samples/sec: 356.03 - lr: 0.100000\n",
            "2022-06-03 06:52:51,156 ----------------------------------------------------------------------------------------------------\n",
            "2022-06-03 06:52:51,157 EPOCH 10 done: loss 0.0276 - lr 0.100000\n"
          ]
        },
        {
          "output_type": "stream",
          "name": "stderr",
          "text": [
            "100%|██████████| 109/109 [00:12<00:00,  8.67it/s]"
          ]
        },
        {
          "output_type": "stream",
          "name": "stdout",
          "text": [
            "2022-06-03 06:53:03,777 Evaluating as a multi-label problem: False\n",
            "2022-06-03 06:53:03,827 DEV : loss 0.02748974785208702 - f1-score (micro avg)  0.9539\n"
          ]
        },
        {
          "output_type": "stream",
          "name": "stderr",
          "text": [
            "\n"
          ]
        },
        {
          "output_type": "stream",
          "name": "stdout",
          "text": [
            "2022-06-03 06:53:04,103 BAD EPOCHS (no improvement): 0\n",
            "2022-06-03 06:53:04,105 saving best model\n",
            "2022-06-03 06:53:06,263 ----------------------------------------------------------------------------------------------------\n",
            "2022-06-03 06:53:10,398 epoch 11 - iter 46/469 - loss 0.02790386 - samples/sec: 358.11 - lr: 0.100000\n",
            "2022-06-03 06:53:14,718 epoch 11 - iter 92/469 - loss 0.02579007 - samples/sec: 341.21 - lr: 0.100000\n",
            "2022-06-03 06:53:18,892 epoch 11 - iter 138/469 - loss 0.02675242 - samples/sec: 353.12 - lr: 0.100000\n",
            "2022-06-03 06:53:22,993 epoch 11 - iter 184/469 - loss 0.02651214 - samples/sec: 359.39 - lr: 0.100000\n",
            "2022-06-03 06:53:27,227 epoch 11 - iter 230/469 - loss 0.02640904 - samples/sec: 348.11 - lr: 0.100000\n",
            "2022-06-03 06:53:31,259 epoch 11 - iter 276/469 - loss 0.02694632 - samples/sec: 365.54 - lr: 0.100000\n",
            "2022-06-03 06:53:35,275 epoch 11 - iter 322/469 - loss 0.02676189 - samples/sec: 367.07 - lr: 0.100000\n",
            "2022-06-03 06:53:39,451 epoch 11 - iter 368/469 - loss 0.02688014 - samples/sec: 352.92 - lr: 0.100000\n",
            "2022-06-03 06:53:43,481 epoch 11 - iter 414/469 - loss 0.02703134 - samples/sec: 365.70 - lr: 0.100000\n",
            "2022-06-03 06:53:47,804 epoch 11 - iter 460/469 - loss 0.02719965 - samples/sec: 340.89 - lr: 0.100000\n",
            "2022-06-03 06:53:48,642 ----------------------------------------------------------------------------------------------------\n",
            "2022-06-03 06:53:48,643 EPOCH 11 done: loss 0.0272 - lr 0.100000\n"
          ]
        },
        {
          "output_type": "stream",
          "name": "stderr",
          "text": [
            "100%|██████████| 109/109 [00:12<00:00,  8.70it/s]"
          ]
        },
        {
          "output_type": "stream",
          "name": "stdout",
          "text": [
            "2022-06-03 06:54:01,206 Evaluating as a multi-label problem: False\n",
            "2022-06-03 06:54:01,258 DEV : loss 0.030711423605680466 - f1-score (micro avg)  0.9477\n"
          ]
        },
        {
          "output_type": "stream",
          "name": "stderr",
          "text": [
            "\n"
          ]
        },
        {
          "output_type": "stream",
          "name": "stdout",
          "text": [
            "2022-06-03 06:54:01,531 BAD EPOCHS (no improvement): 1\n",
            "2022-06-03 06:54:03,683 ----------------------------------------------------------------------------------------------------\n",
            "2022-06-03 06:54:03,700 loading file resources/taggers/sota-ner-flair/best-model.pt\n",
            "2022-06-03 06:54:06,695 SequenceTagger predicts: Dictionary with 19 tags: O, S-LOC, B-LOC, E-LOC, I-LOC, S-PER, B-PER, E-PER, I-PER, S-ORG, B-ORG, E-ORG, I-ORG, S-MISC, B-MISC, E-MISC, I-MISC, <START>, <STOP>\n"
          ]
        },
        {
          "output_type": "stream",
          "name": "stderr",
          "text": [
            "100%|██████████| 116/116 [00:33<00:00,  3.42it/s]"
          ]
        },
        {
          "output_type": "stream",
          "name": "stdout",
          "text": [
            "2022-06-03 06:54:41,208 Evaluating as a multi-label problem: False\n"
          ]
        },
        {
          "output_type": "stream",
          "name": "stderr",
          "text": [
            "\n"
          ]
        },
        {
          "output_type": "stream",
          "name": "stdout",
          "text": [
            "2022-06-03 06:54:41,259 0.9256\t0.9249\t0.9253\t0.8886\n",
            "2022-06-03 06:54:41,261 \n",
            "Results:\n",
            "- F-score (micro) 0.9253\n",
            "- F-score (macro) 0.912\n",
            "- Accuracy 0.8886\n",
            "\n",
            "By class:\n",
            "              precision    recall  f1-score   support\n",
            "\n",
            "         ORG     0.8966    0.9187    0.9075      1661\n",
            "         LOC     0.9449    0.9359    0.9404      1668\n",
            "         PER     0.9744    0.9635    0.9689      1617\n",
            "        MISC     0.8379    0.8248    0.8313       702\n",
            "\n",
            "   micro avg     0.9256    0.9249    0.9253      5648\n",
            "   macro avg     0.9134    0.9107    0.9120      5648\n",
            "weighted avg     0.9258    0.9249    0.9253      5648\n",
            "\n",
            "2022-06-03 06:54:41,264 ----------------------------------------------------------------------------------------------------\n"
          ]
        },
        {
          "output_type": "execute_result",
          "data": {
            "text/plain": [
              "{'dev_loss_history': [0.029514789581298828,\n",
              "  0.03013870306313038,\n",
              "  0.028680458664894104,\n",
              "  0.02829403057694435,\n",
              "  0.029214348644018173,\n",
              "  0.02858860045671463,\n",
              "  0.02982337400317192,\n",
              "  0.029249344021081924,\n",
              "  0.028277914971113205,\n",
              "  0.02748974785208702,\n",
              "  0.030711423605680466],\n",
              " 'dev_score_history': [0.9487114916477798,\n",
              "  0.9488340882402282,\n",
              "  0.9508196721311475,\n",
              "  0.951405791019723,\n",
              "  0.9517496014097507,\n",
              "  0.9533338938871605,\n",
              "  0.9504333922410165,\n",
              "  0.9526209677419355,\n",
              "  0.9518132975151109,\n",
              "  0.9538720538720539,\n",
              "  0.9477486559139785],\n",
              " 'test_score': 0.9252568189868934,\n",
              " 'train_loss_history': [0.037718024403469434,\n",
              "  0.03524307831068183,\n",
              "  0.03422224654792959,\n",
              "  0.03137280368794209,\n",
              "  0.031930704286561674,\n",
              "  0.030109891792786714,\n",
              "  0.029407689879148702,\n",
              "  0.028115233515715512,\n",
              "  0.027238049653735084,\n",
              "  0.027560230018618594,\n",
              "  0.02721206882918402]}"
            ]
          },
          "metadata": {},
          "execution_count": 31
        }
      ]
    },
    {
      "cell_type": "markdown",
      "metadata": {
        "id": "WS8MOt_DhPdJ"
      },
      "source": [
        "Flair data types have two objects, namely *sentence* and *token* objects, which are cardinal appendeges of the library. Sentences are lists of tokens that hold textual sentences."
      ]
    }
  ]
}